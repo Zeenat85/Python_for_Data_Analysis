{
  "nbformat": 4,
  "nbformat_minor": 0,
  "metadata": {
    "colab": {
      "provenance": [],
      "authorship_tag": "ABX9TyOGciD5qtgk1LUX7P/Ljvxa",
      "include_colab_link": true
    },
    "kernelspec": {
      "name": "python3",
      "display_name": "Python 3"
    },
    "language_info": {
      "name": "python"
    }
  },
  "cells": [
    {
      "cell_type": "markdown",
      "metadata": {
        "id": "view-in-github",
        "colab_type": "text"
      },
      "source": [
        "<a href=\"https://colab.research.google.com/github/Zeenat85/Python_for_Data_Analysis/blob/main/Python_Basics.ipynb\" target=\"_parent\"><img src=\"https://colab.research.google.com/assets/colab-badge.svg\" alt=\"Open In Colab\"/></a>"
      ]
    },
    {
      "cell_type": "markdown",
      "source": [
        "**The High Level**\n",
        "\n",
        "Python is a interpreted, high level programming language created by Dutch programmer Guido van Rossum and released in 1991.\n",
        "\n",
        "Python is old. It gained a lot of attraction around 2006, with its popularity being driven its beauty and simplicity to do Web Development (its main Web Development Framework, Django, was released in 2006). From there, it took off as one of the most popular scripting languages.\n",
        "\n",
        "Python is multi-paradigm: you can write code using Object Oriented, Functional and/or Imperative programming. Python is interpreted and uses a dynamic type system, although considered strongly typed.\n",
        "It has an extensive builtin standard library with features that ranges from time management, to http servers, concurrency and async programming.\n",
        "Python is Open Source and is managed by a non-profit organization: the Python Software Foundation.\n"
      ],
      "metadata": {
        "id": "JaSC83_OzMpI"
      }
    },
    {
      "cell_type": "markdown",
      "source": [
        "**Python 3 vs Python 2**\n",
        "\n",
        "You might have heard that there are two main versions of Python around: Python 2 and Python 3. Well, I'll keep it simple:\n",
        "Python 3: YES!\n",
        "Python 2: NO!\n",
        "Python 2 was deprecated in 2020. So stick to Python 3, it's the present and the future of the language.\n",
        "\n",
        "**Syntax Overview**\n",
        "\n",
        "The following paragraphs will be dedicated to Python's syntax and technical details. There are more to Python than just syntax, as its community, events, email lists, etc. But after all, this is just a technical introduction. Indentation based\n",
        "This might feel weird at first, but in Python we do NOT use curly braces to denote blocks of code. We use \"indentation\" instead. This is similar to Ruby.\n",
        "For example, this is a very simple add_numbers function in javascript:\n",
        "function add_numbers(x, y){\n",
        "}\n",
        "Return x + y\n"
      ],
      "metadata": {
        "id": "44Jlrd6R0Zsj"
      }
    },
    {
      "cell_type": "code",
      "execution_count": null,
      "metadata": {
        "id": "1Plh262Hmf-x"
      },
      "outputs": [],
      "source": [
        "def add_numbers(x, y):\n",
        "    return x + y"
      ]
    },
    {
      "cell_type": "code",
      "source": [
        "# try changing \"Python\" to something else.\n",
        "# Don't remove the quotes.\n",
        "language = \"Python\"\n",
        "\n",
        "if language == \"Python\":\n",
        "  print(\"Let the Fun begin!\")\n",
        "else:\n",
        "  print(\"You sure?\")"
      ],
      "metadata": {
        "colab": {
          "base_uri": "https://localhost:8080/"
        },
        "id": "FW31Ze2t26GU",
        "outputId": "8989b902-5a5f-4e1b-9665-9061ca14e780"
      },
      "execution_count": null,
      "outputs": [
        {
          "output_type": "stream",
          "name": "stdout",
          "text": [
            "Let the Fun begin!\n"
          ]
        }
      ]
    },
    {
      "cell_type": "markdown",
      "source": [
        "**Comments**\n",
        "\n",
        "It's prefixed with hashtag sign\n"
      ],
      "metadata": {
        "id": "lq5pzqst3gp9"
      }
    },
    {
      "cell_type": "code",
      "source": [
        "# this is a comment"
      ],
      "metadata": {
        "id": "uKe7IwLB3d_4"
      },
      "execution_count": null,
      "outputs": []
    },
    {
      "cell_type": "code",
      "source": [
        "# it doesn't produce any output"
      ],
      "metadata": {
        "id": "lkljydQF3z6H"
      },
      "execution_count": null,
      "outputs": []
    },
    {
      "cell_type": "code",
      "source": [
        "# can be above..\n",
        "print(\"Hello World\")\n",
        "# or can be below"
      ],
      "metadata": {
        "colab": {
          "base_uri": "https://localhost:8080/"
        },
        "id": "03uRTbVr35YH",
        "outputId": "c6ac619e-1907-4207-bd16-6e8fa99fb96b"
      },
      "execution_count": null,
      "outputs": [
        {
          "output_type": "stream",
          "name": "stdout",
          "text": [
            "Hello World\n"
          ]
        }
      ]
    },
    {
      "cell_type": "markdown",
      "source": [
        "**Variables**\n",
        "\n",
        "In python you can set a variable at any time, in any block of code, by just assigning a valid name to any value we want.\n",
        "\n",
        "Variables once set can be preserved"
      ],
      "metadata": {
        "id": "xPa-lDXD4IuH"
      }
    },
    {
      "cell_type": "code",
      "source": [
        "name = \"Zeenat\"\n",
        "print(name)"
      ],
      "metadata": {
        "colab": {
          "base_uri": "https://localhost:8080/"
        },
        "id": "htWvICrE4HRC",
        "outputId": "5c62157f-581f-4b42-cb33-b6ab76cdc38c"
      },
      "execution_count": null,
      "outputs": [
        {
          "output_type": "stream",
          "name": "stdout",
          "text": [
            "Zeenat\n"
          ]
        }
      ]
    },
    {
      "cell_type": "code",
      "source": [
        "age = 30\n",
        "print(age)"
      ],
      "metadata": {
        "colab": {
          "base_uri": "https://localhost:8080/"
        },
        "id": "t-RbWLAh4muy",
        "outputId": "45783335-5ce0-480a-f90f-0e7bd6f33101"
      },
      "execution_count": null,
      "outputs": [
        {
          "output_type": "stream",
          "name": "stdout",
          "text": [
            "30\n"
          ]
        }
      ]
    },
    {
      "cell_type": "markdown",
      "source": [
        "**Data Types**\n",
        "\n",
        "Python supports the most common types, the usual suspects we could say:\n",
        "\n",
        "Integers, type int:\n",
        "\n",
        "Integers have unlimited magnitude"
      ],
      "metadata": {
        "id": "Em4Qe3Gb5G-2"
      }
    },
    {
      "cell_type": "code",
      "source": [
        "# an int\n",
        "age = 30"
      ],
      "metadata": {
        "id": "KE6TEth_4qaf"
      },
      "execution_count": null,
      "outputs": []
    },
    {
      "cell_type": "code",
      "source": [
        "type(age)"
      ],
      "metadata": {
        "colab": {
          "base_uri": "https://localhost:8080/"
        },
        "id": "Dq1R5Ckh5lb-",
        "outputId": "2bc087f3-e8bb-4da3-ae3f-f9386e0b7cf1"
      },
      "execution_count": null,
      "outputs": [
        {
          "output_type": "execute_result",
          "data": {
            "text/plain": [
              "int"
            ]
          },
          "metadata": {},
          "execution_count": 11
        }
      ]
    },
    {
      "cell_type": "markdown",
      "source": [
        "**Floats, type float:**\n",
        "\n",
        "The standard floating point number"
      ],
      "metadata": {
        "id": "Cch1ETkN5pzF"
      }
    },
    {
      "cell_type": "code",
      "source": [
        "# a float\n",
        "price = 3.50"
      ],
      "metadata": {
        "id": "MY-fOhHQ5zJ6"
      },
      "execution_count": null,
      "outputs": []
    },
    {
      "cell_type": "code",
      "source": [
        "type(price)"
      ],
      "metadata": {
        "colab": {
          "base_uri": "https://localhost:8080/"
        },
        "id": "iCs7sRId54kj",
        "outputId": "482fdcfb-b8c0-4dc4-e510-38a3bf722755"
      },
      "execution_count": null,
      "outputs": [
        {
          "output_type": "execute_result",
          "data": {
            "text/plain": [
              "float"
            ]
          },
          "metadata": {},
          "execution_count": 13
        }
      ]
    },
    {
      "cell_type": "markdown",
      "source": [
        "Sometimes floats exhibit \"extraneous\" behaviour:"
      ],
      "metadata": {
        "id": "ke3ysfxE5-t9"
      }
    },
    {
      "cell_type": "code",
      "source": [
        "0.1 * 3"
      ],
      "metadata": {
        "colab": {
          "base_uri": "https://localhost:8080/"
        },
        "id": "mFRTv-Ak6F6Q",
        "outputId": "86b6076f-3f6a-43f7-ef4c-67054c7cea5a"
      },
      "execution_count": null,
      "outputs": [
        {
          "output_type": "execute_result",
          "data": {
            "text/plain": [
              "0.30000000000000004"
            ]
          },
          "metadata": {},
          "execution_count": 14
        }
      ]
    },
    {
      "cell_type": "markdown",
      "source": [
        "If you need decimal fixed point precision, you can use the **decimal** module:"
      ],
      "metadata": {
        "id": "POSGxI0t6Kmj"
      }
    },
    {
      "cell_type": "code",
      "source": [
        "from decimal import Decimal"
      ],
      "metadata": {
        "id": "uMJtG30P6c30"
      },
      "execution_count": null,
      "outputs": []
    },
    {
      "cell_type": "code",
      "source": [
        "Decimal('0.1') * 3"
      ],
      "metadata": {
        "colab": {
          "base_uri": "https://localhost:8080/"
        },
        "id": "srxL5np96kkj",
        "outputId": "22670959-4e37-4e3a-cfa5-a74d9b4e077f"
      },
      "execution_count": null,
      "outputs": [
        {
          "output_type": "execute_result",
          "data": {
            "text/plain": [
              "Decimal('0.3')"
            ]
          },
          "metadata": {},
          "execution_count": 16
        }
      ]
    },
    {
      "cell_type": "markdown",
      "source": [
        "**Strings, type str**\n",
        "\n",
        "Strings are used to store text. Technically they're \"immutable sequence of Unicode code points\". Which means that Python supports Unicode:"
      ],
      "metadata": {
        "id": "MkrRAF6u6v5n"
      }
    },
    {
      "cell_type": "code",
      "source": [
        "# Create them with double quotes:\n",
        "print(\"Hellow Unicode\")"
      ],
      "metadata": {
        "colab": {
          "base_uri": "https://localhost:8080/"
        },
        "id": "uaMzmd8N7Gf1",
        "outputId": "7359ae4f-9617-4017-f743-db53e69afebc"
      },
      "execution_count": null,
      "outputs": [
        {
          "output_type": "stream",
          "name": "stdout",
          "text": [
            "Hellow Unicode\n"
          ]
        }
      ]
    },
    {
      "cell_type": "code",
      "source": [
        "# single quotes:\n",
        "print('Omelette Du Fromage')"
      ],
      "metadata": {
        "colab": {
          "base_uri": "https://localhost:8080/"
        },
        "id": "fid3yuuL7RNT",
        "outputId": "b4ab01f5-9393-4112-8ecb-436e6f05640d"
      },
      "execution_count": null,
      "outputs": [
        {
          "output_type": "stream",
          "name": "stdout",
          "text": [
            "Omelette Du Fromage\n"
          ]
        }
      ]
    },
    {
      "cell_type": "code",
      "source": [
        "type ('Hello World')"
      ],
      "metadata": {
        "colab": {
          "base_uri": "https://localhost:8080/"
        },
        "id": "B3Uryg667pkO",
        "outputId": "dcd86af7-e1ed-4ce3-8657-a6e9a1e8f9f9"
      },
      "execution_count": null,
      "outputs": [
        {
          "output_type": "execute_result",
          "data": {
            "text/plain": [
              "str"
            ]
          },
          "metadata": {},
          "execution_count": 19
        }
      ]
    },
    {
      "cell_type": "code",
      "source": [
        "len(\"Hellow\")"
      ],
      "metadata": {
        "colab": {
          "base_uri": "https://localhost:8080/"
        },
        "id": "NTnvyU3z7tkZ",
        "outputId": "91a47fb4-217b-491d-e04f-654c24dd8770"
      },
      "execution_count": null,
      "outputs": [
        {
          "output_type": "execute_result",
          "data": {
            "text/plain": [
              "6"
            ]
          },
          "metadata": {},
          "execution_count": 20
        }
      ]
    },
    {
      "cell_type": "markdown",
      "source": [
        "We can use double or single quptes, it's the same. We also have \"multi-line\" strings, that are created with pair of 3 quotes (simple or double, either works):"
      ],
      "metadata": {
        "id": "GuiB11oh7xQC"
      }
    },
    {
      "cell_type": "code",
      "source": [
        "joke = \"\"\"\n",
        "Me: What's the best thing about Switzerland ?\n",
        "Friend : I don't know , What ?\n",
        "Me :  I don't know but flag is a big plus\n",
        "\"\"\"\n",
        "\n",
        "print(joke)"
      ],
      "metadata": {
        "colab": {
          "base_uri": "https://localhost:8080/"
        },
        "id": "fSp0F29x8DdM",
        "outputId": "fe346f48-5f71-440b-eac4-614bbbe07ec6"
      },
      "execution_count": null,
      "outputs": [
        {
          "output_type": "stream",
          "name": "stdout",
          "text": [
            "\n",
            "Me: What's the best thing about Switzerland ?\n",
            "Friend : I don't know , What ?\n",
            "Me :  I don't know but flag is a big plus\n",
            "\n"
          ]
        }
      ]
    },
    {
      "cell_type": "markdown",
      "source": [
        "**Booleans, type bool**\n",
        "\n",
        "Python booleans are as simple as they get : True and False, **capatilized**"
      ],
      "metadata": {
        "id": "sym0XZLn8ZvZ"
      }
    },
    {
      "cell_type": "code",
      "source": [
        "True"
      ],
      "metadata": {
        "colab": {
          "base_uri": "https://localhost:8080/"
        },
        "id": "O-dykyb5-AAv",
        "outputId": "1683f87c-2af7-4987-896f-66c500e1a902"
      },
      "execution_count": null,
      "outputs": [
        {
          "output_type": "execute_result",
          "data": {
            "text/plain": [
              "True"
            ]
          },
          "metadata": {},
          "execution_count": 23
        }
      ]
    },
    {
      "cell_type": "code",
      "source": [
        "type(False)"
      ],
      "metadata": {
        "colab": {
          "base_uri": "https://localhost:8080/"
        },
        "id": "zwIWFA4o-CGp",
        "outputId": "ecaf2d5f-b57b-420f-9f93-f352a4270d64"
      },
      "execution_count": null,
      "outputs": [
        {
          "output_type": "execute_result",
          "data": {
            "text/plain": [
              "bool"
            ]
          },
          "metadata": {},
          "execution_count": 24
        }
      ]
    },
    {
      "cell_type": "markdown",
      "source": [
        "Noen, type NoneType\n",
        "\n",
        "As other languages have null, in Python we have None, which pretty much repreents the absence of value"
      ],
      "metadata": {
        "id": "kDk8lCGL-GAH"
      }
    },
    {
      "cell_type": "code",
      "source": [
        "x = None"
      ],
      "metadata": {
        "id": "slhP4-Tr-Vc2"
      },
      "execution_count": null,
      "outputs": []
    },
    {
      "cell_type": "code",
      "source": [
        "x"
      ],
      "metadata": {
        "id": "ew1TJs62-ZTx"
      },
      "execution_count": null,
      "outputs": []
    },
    {
      "cell_type": "code",
      "source": [
        "print(x)"
      ],
      "metadata": {
        "colab": {
          "base_uri": "https://localhost:8080/"
        },
        "id": "nAYaa7DT-bAf",
        "outputId": "b49fc3b2-2134-4158-f9ba-8d9bc5ebbd4c"
      },
      "execution_count": null,
      "outputs": [
        {
          "output_type": "stream",
          "name": "stdout",
          "text": [
            "None\n"
          ]
        }
      ]
    },
    {
      "cell_type": "code",
      "source": [
        "type(None)"
      ],
      "metadata": {
        "colab": {
          "base_uri": "https://localhost:8080/"
        },
        "id": "rulvz3gO-e4o",
        "outputId": "e2e231bd-242a-433e-8f8e-d82e6e9e9e79"
      },
      "execution_count": null,
      "outputs": [
        {
          "output_type": "execute_result",
          "data": {
            "text/plain": [
              "NoneType"
            ]
          },
          "metadata": {},
          "execution_count": 28
        }
      ]
    },
    {
      "cell_type": "markdown",
      "source": [
        "**int, float, str and bool objects and functions**\n",
        "\n",
        "We'll often see some of these \"keywords/names\" used both as functions and as an individual objects. When used as a functions their uses to transform or cast objects into the corresponding type"
      ],
      "metadata": {
        "id": "ksF0zpuj-nkW"
      }
    },
    {
      "cell_type": "code",
      "source": [
        "age_as_string = \"28\""
      ],
      "metadata": {
        "id": "bNyNMuFi_Xg3"
      },
      "execution_count": null,
      "outputs": []
    },
    {
      "cell_type": "code",
      "source": [
        "type(age_as_string)"
      ],
      "metadata": {
        "colab": {
          "base_uri": "https://localhost:8080/"
        },
        "id": "Cy-yU58d_fTn",
        "outputId": "9e78b8bb-2859-4557-b4a4-e2c4eb9f1c59"
      },
      "execution_count": null,
      "outputs": [
        {
          "output_type": "execute_result",
          "data": {
            "text/plain": [
              "str"
            ]
          },
          "metadata": {},
          "execution_count": 30
        }
      ]
    },
    {
      "cell_type": "code",
      "source": [
        "int(age_as_string)"
      ],
      "metadata": {
        "colab": {
          "base_uri": "https://localhost:8080/"
        },
        "id": "ipU3vh05_jAr",
        "outputId": "776373f3-3e20-425e-82e8-53d5a6907bf7"
      },
      "execution_count": null,
      "outputs": [
        {
          "output_type": "execute_result",
          "data": {
            "text/plain": [
              "28"
            ]
          },
          "metadata": {},
          "execution_count": 31
        }
      ]
    },
    {
      "cell_type": "code",
      "source": [
        "age = int(age_as_string)"
      ],
      "metadata": {
        "id": "tU3KACrC_m56"
      },
      "execution_count": null,
      "outputs": []
    },
    {
      "cell_type": "code",
      "source": [
        "type(age)"
      ],
      "metadata": {
        "colab": {
          "base_uri": "https://localhost:8080/"
        },
        "id": "XInNHf81_rHl",
        "outputId": "0445210a-8945-41f1-8cf6-af1e018c18a9"
      },
      "execution_count": null,
      "outputs": [
        {
          "output_type": "execute_result",
          "data": {
            "text/plain": [
              "int"
            ]
          },
          "metadata": {},
          "execution_count": 33
        }
      ]
    },
    {
      "cell_type": "markdown",
      "source": [
        "Their use is mostly associated with their type."
      ],
      "metadata": {
        "id": "Na8eV8im_zq8"
      }
    },
    {
      "cell_type": "code",
      "source": [
        "type(13) == int"
      ],
      "metadata": {
        "colab": {
          "base_uri": "https://localhost:8080/"
        },
        "id": "ZdKNf_Ri_6tZ",
        "outputId": "352e55e6-7d97-4572-a610-ca1d34386760"
      },
      "execution_count": null,
      "outputs": [
        {
          "output_type": "execute_result",
          "data": {
            "text/plain": [
              "True"
            ]
          },
          "metadata": {},
          "execution_count": 34
        }
      ]
    },
    {
      "cell_type": "markdown",
      "source": [
        "**Functions**\n",
        "\n",
        "Functions in Python are very intutive.\n",
        "Let's start with a function with without parameter"
      ],
      "metadata": {
        "id": "qRUR9auqAIp4"
      }
    },
    {
      "cell_type": "code",
      "source": [
        "def hellow():\n",
        "  return \" Hellow World\""
      ],
      "metadata": {
        "id": "oN0WvJUrApTp"
      },
      "execution_count": null,
      "outputs": []
    },
    {
      "cell_type": "markdown",
      "source": [
        "The def keyword indicate the defination of a function, followed by a name and list of arguments(which this function not receive)\n",
        "\n",
        "Thr return statement use to break the flow of the function and return a value back to the caller"
      ],
      "metadata": {
        "id": "OU9yS36IYrk2"
      }
    },
    {
      "cell_type": "code",
      "source": [
        "result = hellow()"
      ],
      "metadata": {
        "colab": {
          "base_uri": "https://localhost:8080/",
          "height": 141
        },
        "id": "7mhb2IfMZMOj",
        "outputId": "5fc47bb0-15f8-43a9-c91a-04c7dcb800a1"
      },
      "execution_count": null,
      "outputs": [
        {
          "output_type": "error",
          "ename": "NameError",
          "evalue": "name 'hellow' is not defined",
          "traceback": [
            "\u001b[0;31m---------------------------------------------------------------------------\u001b[0m",
            "\u001b[0;31mNameError\u001b[0m                                 Traceback (most recent call last)",
            "\u001b[0;32m<ipython-input-1-6655e4eecb1d>\u001b[0m in \u001b[0;36m<cell line: 0>\u001b[0;34m()\u001b[0m\n\u001b[0;32m----> 1\u001b[0;31m \u001b[0mresult\u001b[0m \u001b[0;34m=\u001b[0m \u001b[0mhellow\u001b[0m\u001b[0;34m(\u001b[0m\u001b[0;34m)\u001b[0m\u001b[0;34m\u001b[0m\u001b[0;34m\u001b[0m\u001b[0m\n\u001b[0m",
            "\u001b[0;31mNameError\u001b[0m: name 'hellow' is not defined"
          ]
        }
      ]
    },
    {
      "cell_type": "code",
      "source": [
        "result"
      ],
      "metadata": {
        "colab": {
          "base_uri": "https://localhost:8080/",
          "height": 141
        },
        "id": "pZu1JXf6ZdqE",
        "outputId": "0aa24ce3-1656-4fda-f191-bee92a88ad74"
      },
      "execution_count": null,
      "outputs": [
        {
          "output_type": "error",
          "ename": "NameError",
          "evalue": "name 'result' is not defined",
          "traceback": [
            "\u001b[0;31m---------------------------------------------------------------------------\u001b[0m",
            "\u001b[0;31mNameError\u001b[0m                                 Traceback (most recent call last)",
            "\u001b[0;32m<ipython-input-2-0ac921c19f1a>\u001b[0m in \u001b[0;36m<cell line: 0>\u001b[0;34m()\u001b[0m\n\u001b[0;32m----> 1\u001b[0;31m \u001b[0mresult\u001b[0m\u001b[0;34m\u001b[0m\u001b[0;34m\u001b[0m\u001b[0m\n\u001b[0m",
            "\u001b[0;31mNameError\u001b[0m: name 'result' is not defined"
          ]
        }
      ]
    },
    {
      "cell_type": "markdown",
      "source": [
        "If a function explicitly include a return statement, Python will return None by default."
      ],
      "metadata": {
        "id": "qsAOFkyMZwaC"
      }
    },
    {
      "cell_type": "code",
      "source": [
        "def empty():\n",
        "  x= 3"
      ],
      "metadata": {
        "id": "DOSpLDn9Z-pq"
      },
      "execution_count": null,
      "outputs": []
    },
    {
      "cell_type": "code",
      "source": [
        "result =  empty()"
      ],
      "metadata": {
        "id": "N-OrFvyraIoP"
      },
      "execution_count": null,
      "outputs": []
    },
    {
      "cell_type": "code",
      "source": [
        "print(result)"
      ],
      "metadata": {
        "colab": {
          "base_uri": "https://localhost:8080/"
        },
        "id": "zKVNHgZ-aMLI",
        "outputId": "5c6dbcdb-137d-4001-e23d-0e328c32820b"
      },
      "execution_count": null,
      "outputs": [
        {
          "output_type": "stream",
          "name": "stdout",
          "text": [
            "None\n"
          ]
        }
      ]
    },
    {
      "cell_type": "markdown",
      "source": [
        "**Receiving Paramenters**\n",
        "\n",
        "There is a lot that can be done with Python parameters, including default and named paramenters and even variable/dynamic ones.\n",
        "\n",
        "Function parameters are listed at the function defination and they are the part of function's local scope."
      ],
      "metadata": {
        "id": "lInFtPZgaRM8"
      }
    },
    {
      "cell_type": "code",
      "source": [
        "def add(x,y):\n",
        "  return x+y"
      ],
      "metadata": {
        "id": "-QKUJEoJbClK"
      },
      "execution_count": null,
      "outputs": []
    },
    {
      "cell_type": "code",
      "source": [
        "add(2,3)"
      ],
      "metadata": {
        "colab": {
          "base_uri": "https://localhost:8080/"
        },
        "id": "Wd5by6sXbMGw",
        "outputId": "97ed9484-f527-45ef-970e-16cb01466eef"
      },
      "execution_count": null,
      "outputs": [
        {
          "output_type": "execute_result",
          "data": {
            "text/plain": [
              "5"
            ]
          },
          "metadata": {},
          "execution_count": 8
        }
      ]
    },
    {
      "cell_type": "markdown",
      "source": [
        "We can also define functions that accept variable number of arguments, using the star args"
      ],
      "metadata": {
        "id": "ihIJTpMlbQR8"
      }
    },
    {
      "cell_type": "code",
      "source": [
        "def add(*args):\n",
        "  return sum(args)"
      ],
      "metadata": {
        "id": "sSHKuPYwbf2O"
      },
      "execution_count": null,
      "outputs": []
    },
    {
      "cell_type": "code",
      "source": [
        "add(1,1,1)"
      ],
      "metadata": {
        "colab": {
          "base_uri": "https://localhost:8080/"
        },
        "id": "iE2-vRA4bm21",
        "outputId": "8885830c-f46a-470f-ba96-274386a22318"
      },
      "execution_count": null,
      "outputs": [
        {
          "output_type": "execute_result",
          "data": {
            "text/plain": [
              "3"
            ]
          },
          "metadata": {},
          "execution_count": 10
        }
      ]
    },
    {
      "cell_type": "code",
      "source": [
        "add(1)"
      ],
      "metadata": {
        "colab": {
          "base_uri": "https://localhost:8080/"
        },
        "id": "F5RnW0UMbtNl",
        "outputId": "f3f7c651-cf74-47b6-fce7-27df41825b98"
      },
      "execution_count": null,
      "outputs": [
        {
          "output_type": "execute_result",
          "data": {
            "text/plain": [
              "1"
            ]
          },
          "metadata": {},
          "execution_count": 11
        }
      ]
    },
    {
      "cell_type": "markdown",
      "source": [
        "**Operators**\n",
        "\n",
        "Both arithmatic and boolean operators are available, for example\n",
        "\n",
        "**Arithmetic operators**"
      ],
      "metadata": {
        "id": "qrE0Nn3AbvV0"
      }
    },
    {
      "cell_type": "code",
      "source": [
        "3+3"
      ],
      "metadata": {
        "colab": {
          "base_uri": "https://localhost:8080/"
        },
        "id": "02vx_LmQb860",
        "outputId": "efcc5759-aeba-4add-973a-a9f7c0e9d1a6"
      },
      "execution_count": null,
      "outputs": [
        {
          "output_type": "execute_result",
          "data": {
            "text/plain": [
              "6"
            ]
          },
          "metadata": {},
          "execution_count": 12
        }
      ]
    },
    {
      "cell_type": "code",
      "source": [
        "11%7"
      ],
      "metadata": {
        "colab": {
          "base_uri": "https://localhost:8080/"
        },
        "id": "uw-Sljomb-x1",
        "outputId": "ebdeb824-8103-4c87-9de4-1677bcd744f6"
      },
      "execution_count": null,
      "outputs": [
        {
          "output_type": "execute_result",
          "data": {
            "text/plain": [
              "4"
            ]
          },
          "metadata": {},
          "execution_count": 13
        }
      ]
    },
    {
      "cell_type": "code",
      "source": [
        "2**4"
      ],
      "metadata": {
        "colab": {
          "base_uri": "https://localhost:8080/"
        },
        "id": "ADFVHNENcBxS",
        "outputId": "e44457b1-06ee-4232-9b1c-3d5620bfaf19"
      },
      "execution_count": null,
      "outputs": [
        {
          "output_type": "execute_result",
          "data": {
            "text/plain": [
              "16"
            ]
          },
          "metadata": {},
          "execution_count": 14
        }
      ]
    },
    {
      "cell_type": "markdown",
      "source": [
        "Precedence can be consulted on the official docs, But for the most part precedence is similar to the usual to arithmatic"
      ],
      "metadata": {
        "id": "tEcGHje6cJw-"
      }
    },
    {
      "cell_type": "code",
      "source": [
        "3+4*5"
      ],
      "metadata": {
        "colab": {
          "base_uri": "https://localhost:8080/"
        },
        "id": "FLe2GE5XcbKM",
        "outputId": "647989a9-72e7-498d-ff13-768b9e7b0c6b"
      },
      "execution_count": null,
      "outputs": [
        {
          "output_type": "execute_result",
          "data": {
            "text/plain": [
              "23"
            ]
          },
          "metadata": {},
          "execution_count": 15
        }
      ]
    },
    {
      "cell_type": "code",
      "source": [
        "3+4*2**3"
      ],
      "metadata": {
        "colab": {
          "base_uri": "https://localhost:8080/"
        },
        "id": "4WWxQx0ocezs",
        "outputId": "9ec077d9-26f0-497e-d12d-8a4982d2c4f1"
      },
      "execution_count": null,
      "outputs": [
        {
          "output_type": "execute_result",
          "data": {
            "text/plain": [
              "35"
            ]
          },
          "metadata": {},
          "execution_count": 16
        }
      ]
    },
    {
      "cell_type": "markdown",
      "source": [
        "**Boolean operators**\n",
        "\n",
        "Regular comparison operators are available"
      ],
      "metadata": {
        "id": "AEagtCt4clDI"
      }
    },
    {
      "cell_type": "code",
      "source": [
        "7>3"
      ],
      "metadata": {
        "colab": {
          "base_uri": "https://localhost:8080/"
        },
        "id": "eeUiZO0Jcs6A",
        "outputId": "87d86a2e-391a-440b-cabe-b158a09f42d3"
      },
      "execution_count": null,
      "outputs": [
        {
          "output_type": "execute_result",
          "data": {
            "text/plain": [
              "True"
            ]
          },
          "metadata": {},
          "execution_count": 17
        }
      ]
    },
    {
      "cell_type": "code",
      "source": [
        "8>=8"
      ],
      "metadata": {
        "colab": {
          "base_uri": "https://localhost:8080/"
        },
        "id": "iYx_YHkzcyqv",
        "outputId": "514f253a-99ba-435a-98a2-3dfc7738555a"
      },
      "execution_count": null,
      "outputs": [
        {
          "output_type": "execute_result",
          "data": {
            "text/plain": [
              "True"
            ]
          },
          "metadata": {},
          "execution_count": 18
        }
      ]
    },
    {
      "cell_type": "markdown",
      "source": [
        "Python is srongly typed, so comparison between different type will fail if these types are not compatible"
      ],
      "metadata": {
        "id": "_EbG_Sv5c1nM"
      }
    },
    {
      "cell_type": "code",
      "source": [
        "8>\"abd\""
      ],
      "metadata": {
        "colab": {
          "base_uri": "https://localhost:8080/",
          "height": 141
        },
        "id": "DsPS7QZedEp2",
        "outputId": "5dca093b-2260-4a39-fbdb-be307b49ec23"
      },
      "execution_count": null,
      "outputs": [
        {
          "output_type": "error",
          "ename": "TypeError",
          "evalue": "'>' not supported between instances of 'int' and 'str'",
          "traceback": [
            "\u001b[0;31m---------------------------------------------------------------------------\u001b[0m",
            "\u001b[0;31mTypeError\u001b[0m                                 Traceback (most recent call last)",
            "\u001b[0;32m<ipython-input-19-a8e9a1c0ecaa>\u001b[0m in \u001b[0;36m<cell line: 0>\u001b[0;34m()\u001b[0m\n\u001b[0;32m----> 1\u001b[0;31m \u001b[0;36m8\u001b[0m\u001b[0;34m>\u001b[0m\u001b[0;34m\"abd\"\u001b[0m\u001b[0;34m\u001b[0m\u001b[0;34m\u001b[0m\u001b[0m\n\u001b[0m",
            "\u001b[0;31mTypeError\u001b[0m: '>' not supported between instances of 'int' and 'str'"
          ]
        }
      ]
    },
    {
      "cell_type": "markdown",
      "source": [
        "Python also has other common boolean operators like and, or, not etc."
      ],
      "metadata": {
        "id": "vla5kpNLdPjy"
      }
    },
    {
      "cell_type": "code",
      "source": [
        "True and True"
      ],
      "metadata": {
        "colab": {
          "base_uri": "https://localhost:8080/"
        },
        "id": "JVQOyl5_dalM",
        "outputId": "a2d978b5-466b-417a-801f-667fe929d6da"
      },
      "execution_count": null,
      "outputs": [
        {
          "output_type": "execute_result",
          "data": {
            "text/plain": [
              "True"
            ]
          },
          "metadata": {},
          "execution_count": 20
        }
      ]
    },
    {
      "cell_type": "code",
      "source": [
        "not False"
      ],
      "metadata": {
        "colab": {
          "base_uri": "https://localhost:8080/"
        },
        "id": "-ODR-4Izdeub",
        "outputId": "e8a74c5d-5fb4-44f9-c050-bc4070ca8d84"
      },
      "execution_count": null,
      "outputs": [
        {
          "output_type": "execute_result",
          "data": {
            "text/plain": [
              "True"
            ]
          },
          "metadata": {},
          "execution_count": 21
        }
      ]
    },
    {
      "cell_type": "code",
      "source": [
        "False or True"
      ],
      "metadata": {
        "colab": {
          "base_uri": "https://localhost:8080/"
        },
        "id": "0AcPO9kVdjuA",
        "outputId": "baf40ebf-b15e-4179-d4bf-77e08a12386c"
      },
      "execution_count": null,
      "outputs": [
        {
          "output_type": "execute_result",
          "data": {
            "text/plain": [
              "True"
            ]
          },
          "metadata": {},
          "execution_count": 22
        }
      ]
    },
    {
      "cell_type": "markdown",
      "source": [
        "**Control flow **\n",
        "\n",
        "Python supports the most common control flow blocks, they are defined with **indentation**\n",
        "\n",
        "**if/else/elif statements**"
      ],
      "metadata": {
        "id": "1ajHe7pmdnEC"
      }
    },
    {
      "cell_type": "code",
      "source": [
        "days_subscribed = 28"
      ],
      "metadata": {
        "id": "wMaUQjtnelVS"
      },
      "execution_count": null,
      "outputs": []
    },
    {
      "cell_type": "code",
      "source": [
        "if days_subscribed >=30:\n",
        "  print(\"Loyal customer\")\n",
        "elif days_subscribed >=15:\n",
        "  print(\"Halfway there\")\n",
        "else :\n",
        "  print(\"too early\")"
      ],
      "metadata": {
        "colab": {
          "base_uri": "https://localhost:8080/"
        },
        "id": "u00kNLpEd7mO",
        "outputId": "f2bebbc9-0233-41bb-fad8-608cf3ae92b5"
      },
      "execution_count": null,
      "outputs": [
        {
          "output_type": "stream",
          "name": "stdout",
          "text": [
            "Halfway there\n"
          ]
        }
      ]
    },
    {
      "cell_type": "markdown",
      "source": [
        "**For loops**\n",
        "\n",
        "For loops in Python are different than other lang, specially those C/Java\n",
        "\n",
        "For loops are designed to iterate over **collection**."
      ],
      "metadata": {
        "id": "Uh7kgCnzerwr"
      }
    },
    {
      "cell_type": "code",
      "source": [
        "names = ['Monika', 'Ross', 'Chandler', 'Joey', 'Rachel']"
      ],
      "metadata": {
        "id": "o0T-T_lbfE6o"
      },
      "execution_count": null,
      "outputs": []
    },
    {
      "cell_type": "code",
      "source": [
        "for name in names:\n",
        "  print(name)\n"
      ],
      "metadata": {
        "colab": {
          "base_uri": "https://localhost:8080/"
        },
        "id": "U0ri__vQf9H0",
        "outputId": "d364a3f4-44f6-488d-88b3-8dfc52cd10fc"
      },
      "execution_count": null,
      "outputs": [
        {
          "output_type": "stream",
          "name": "stdout",
          "text": [
            "Monika\n",
            "Ross\n",
            "Chandler\n",
            "Joey\n",
            "Rachel\n"
          ]
        }
      ]
    },
    {
      "cell_type": "markdown",
      "source": [
        "**While loops**\n",
        "\n",
        "While loops are seldom used in Python. For loops are the preffered choice 99%.\n",
        "But still its available"
      ],
      "metadata": {
        "id": "3MQXM1v3gDmW"
      }
    },
    {
      "cell_type": "code",
      "source": [
        "count = 0"
      ],
      "metadata": {
        "id": "31p6h6jDgUCz"
      },
      "execution_count": null,
      "outputs": []
    },
    {
      "cell_type": "code",
      "source": [
        "while count <= 3:\n",
        "  print(\"counting...\")\n",
        "  count +=1"
      ],
      "metadata": {
        "colab": {
          "base_uri": "https://localhost:8080/"
        },
        "id": "rAfOe420geRC",
        "outputId": "a9d99cac-faeb-4cf4-c1dd-a08a765e75ba"
      },
      "execution_count": null,
      "outputs": [
        {
          "output_type": "stream",
          "name": "stdout",
          "text": [
            "counting...\n",
            "counting...\n",
            "counting...\n",
            "counting...\n"
          ]
        }
      ]
    },
    {
      "cell_type": "markdown",
      "source": [
        "**Collections**\n",
        "\n",
        "Python has multiple versatile collection types, each with different features and capabilities.\n",
        "\n",
        "1.Lists\n",
        "2.Tuples\n",
        "3.Dictonaries\n",
        "4.Sets\n",
        "\n",
        "**Lists**\n",
        "\n",
        "Lists are mutable, ordered sequences. We could argue, the most common collection type.\n",
        "\n",
        "\n",
        "\n"
      ],
      "metadata": {
        "id": "oad5Yi4GNxxB"
      }
    },
    {
      "cell_type": "code",
      "source": [
        "l = [3, 'Hello World', True]"
      ],
      "metadata": {
        "id": "is-CJBNMQG_4"
      },
      "execution_count": null,
      "outputs": []
    },
    {
      "cell_type": "code",
      "source": [
        "len(l)"
      ],
      "metadata": {
        "colab": {
          "base_uri": "https://localhost:8080/"
        },
        "id": "1naQ8YK6QWGP",
        "outputId": "983e3167-6e79-4b16-e167-26c0cfa1640e"
      },
      "execution_count": null,
      "outputs": [
        {
          "output_type": "execute_result",
          "data": {
            "text/plain": [
              "3"
            ]
          },
          "metadata": {},
          "execution_count": 2
        }
      ]
    },
    {
      "cell_type": "markdown",
      "source": [
        "List elements are accessed using sequential indices **(starting from 0)**"
      ],
      "metadata": {
        "id": "q82Fku2vQZDj"
      }
    },
    {
      "cell_type": "code",
      "source": [
        "l[0]"
      ],
      "metadata": {
        "colab": {
          "base_uri": "https://localhost:8080/"
        },
        "id": "3FY3Y7F8Qk5S",
        "outputId": "9460cf3c-4db0-481b-bba3-26e67b216908"
      },
      "execution_count": null,
      "outputs": [
        {
          "output_type": "execute_result",
          "data": {
            "text/plain": [
              "3"
            ]
          },
          "metadata": {},
          "execution_count": 3
        }
      ]
    },
    {
      "cell_type": "code",
      "source": [
        "l[1]"
      ],
      "metadata": {
        "colab": {
          "base_uri": "https://localhost:8080/",
          "height": 35
        },
        "id": "c3Cn8eFRQrJr",
        "outputId": "19b0bb8a-bf24-4f33-f917-e68571210f74"
      },
      "execution_count": null,
      "outputs": [
        {
          "output_type": "execute_result",
          "data": {
            "text/plain": [
              "'Hello World'"
            ],
            "application/vnd.google.colaboratory.intrinsic+json": {
              "type": "string"
            }
          },
          "metadata": {},
          "execution_count": 4
        }
      ]
    },
    {
      "cell_type": "markdown",
      "source": [
        "Negative indices are also supported"
      ],
      "metadata": {
        "id": "vBpg7IJDQtHB"
      }
    },
    {
      "cell_type": "code",
      "source": [
        "l[-1]"
      ],
      "metadata": {
        "colab": {
          "base_uri": "https://localhost:8080/"
        },
        "id": "IAYXWewTQ7_Q",
        "outputId": "005ef042-07e0-47af-fbbe-be8d56985aa3"
      },
      "execution_count": null,
      "outputs": [
        {
          "output_type": "execute_result",
          "data": {
            "text/plain": [
              "True"
            ]
          },
          "metadata": {},
          "execution_count": 5
        }
      ]
    },
    {
      "cell_type": "code",
      "source": [
        "l[-2]"
      ],
      "metadata": {
        "colab": {
          "base_uri": "https://localhost:8080/",
          "height": 35
        },
        "id": "MjNWZDe4Q9yp",
        "outputId": "01a2b98a-fd90-467a-f8f3-9f2f11c86ef3"
      },
      "execution_count": null,
      "outputs": [
        {
          "output_type": "execute_result",
          "data": {
            "text/plain": [
              "'Hello World'"
            ],
            "application/vnd.google.colaboratory.intrinsic+json": {
              "type": "string"
            }
          },
          "metadata": {},
          "execution_count": 6
        }
      ]
    },
    {
      "cell_type": "markdown",
      "source": [
        "Lists have many useful methods to add/remove elements"
      ],
      "metadata": {
        "id": "sADw6Jn9RB8y"
      }
    },
    {
      "cell_type": "code",
      "source": [
        "l.append('Python 2')"
      ],
      "metadata": {
        "id": "GhJ1atqzRG-v"
      },
      "execution_count": null,
      "outputs": []
    },
    {
      "cell_type": "code",
      "source": [
        "l"
      ],
      "metadata": {
        "colab": {
          "base_uri": "https://localhost:8080/"
        },
        "id": "TgaNhpuSRLuz",
        "outputId": "cdd30fa1-fa1b-4938-fa90-0b092c5d3ee7"
      },
      "execution_count": null,
      "outputs": [
        {
          "output_type": "execute_result",
          "data": {
            "text/plain": [
              "[3, 'Hello World', True, 'Python 2']"
            ]
          },
          "metadata": {},
          "execution_count": 8
        }
      ]
    },
    {
      "cell_type": "code",
      "source": [
        "'Python 2' in l"
      ],
      "metadata": {
        "colab": {
          "base_uri": "https://localhost:8080/"
        },
        "id": "cuHW_5RfRfPJ",
        "outputId": "cd23468a-769d-4609-ef0f-a8ce918b291a"
      },
      "execution_count": null,
      "outputs": [
        {
          "output_type": "execute_result",
          "data": {
            "text/plain": [
              "True"
            ]
          },
          "metadata": {},
          "execution_count": 9
        }
      ]
    },
    {
      "cell_type": "code",
      "source": [
        "'Ruby+' in l"
      ],
      "metadata": {
        "colab": {
          "base_uri": "https://localhost:8080/"
        },
        "id": "VSQ6jT4DRkOX",
        "outputId": "7085ef29-13f3-460e-921a-e9b8df3fb67f"
      },
      "execution_count": null,
      "outputs": [
        {
          "output_type": "execute_result",
          "data": {
            "text/plain": [
              "False"
            ]
          },
          "metadata": {},
          "execution_count": 10
        }
      ]
    },
    {
      "cell_type": "markdown",
      "source": [
        "**Tuples**\n",
        "\n",
        "Tuples are very simlar to lists, but with a huge difference:\n",
        "**They are immutable** That means it can't be further modified"
      ],
      "metadata": {
        "id": "3owuVWXqRnqk"
      }
    },
    {
      "cell_type": "code",
      "source": [
        "t = (3, 'Hello Workd', True)"
      ],
      "metadata": {
        "id": "7b9IwOOIR7CE"
      },
      "execution_count": null,
      "outputs": []
    },
    {
      "cell_type": "markdown",
      "source": [
        "Indexing works in the same way"
      ],
      "metadata": {
        "id": "LsNXgCrzR_z7"
      }
    },
    {
      "cell_type": "code",
      "source": [
        "t[0]"
      ],
      "metadata": {
        "colab": {
          "base_uri": "https://localhost:8080/"
        },
        "id": "F51QY21ISDWr",
        "outputId": "ad2ef4f9-1a76-4716-c293-c98bfeccaba4"
      },
      "execution_count": null,
      "outputs": [
        {
          "output_type": "execute_result",
          "data": {
            "text/plain": [
              "3"
            ]
          },
          "metadata": {},
          "execution_count": 12
        }
      ]
    },
    {
      "cell_type": "code",
      "source": [
        "t[-1]"
      ],
      "metadata": {
        "colab": {
          "base_uri": "https://localhost:8080/"
        },
        "id": "Xai9-wHVSFgp",
        "outputId": "ee3794a1-3805-4c92-80ef-68ab5eece735"
      },
      "execution_count": null,
      "outputs": [
        {
          "output_type": "execute_result",
          "data": {
            "text/plain": [
              "True"
            ]
          },
          "metadata": {},
          "execution_count": 13
        }
      ]
    },
    {
      "cell_type": "code",
      "source": [
        "'Hellow World ' in t"
      ],
      "metadata": {
        "colab": {
          "base_uri": "https://localhost:8080/"
        },
        "id": "79CnpRazSQ6k",
        "outputId": "4dbc71d6-ef05-4894-f0fe-00cf7167e1f1"
      },
      "execution_count": null,
      "outputs": [
        {
          "output_type": "execute_result",
          "data": {
            "text/plain": [
              "False"
            ]
          },
          "metadata": {},
          "execution_count": 14
        }
      ]
    },
    {
      "cell_type": "markdown",
      "source": [
        "But there is no way of modifying them"
      ],
      "metadata": {
        "id": "O_7rDd2GSX7f"
      }
    },
    {
      "cell_type": "code",
      "source": [],
      "metadata": {
        "id": "KagdyIr7SW_z"
      },
      "execution_count": null,
      "outputs": []
    },
    {
      "cell_type": "markdown",
      "source": [
        "**Dictionaries**\n",
        "\n",
        "Dictonaries are mao-like collections that stores value under a key. The key must be immutable object we usually employ string for keys\n",
        "\n",
        "Dictonaries are **mutable** and most importatnt **unordered**"
      ],
      "metadata": {
        "id": "gzhCLCVuScNL"
      }
    },
    {
      "cell_type": "code",
      "source": [
        "user = {\n",
        "    \"name\": \"Mary Smith\",\n",
        "    \"email\": \"marysmith@gmail.com\",\n",
        "    \"age\": 30,\n",
        "    \"subscribed\": True\n",
        "}"
      ],
      "metadata": {
        "id": "wM8w5d8YS_Gi"
      },
      "execution_count": null,
      "outputs": []
    },
    {
      "cell_type": "code",
      "source": [
        "user"
      ],
      "metadata": {
        "colab": {
          "base_uri": "https://localhost:8080/"
        },
        "id": "YXRReJp5UkQB",
        "outputId": "abc1782e-fe95-43f5-a73e-9f41d609f2f8"
      },
      "execution_count": null,
      "outputs": [
        {
          "output_type": "execute_result",
          "data": {
            "text/plain": [
              "{'name': 'Mary Smith',\n",
              " 'email': 'marysmith@gmail.com',\n",
              " 'age': 30,\n",
              " 'subscribed': True}"
            ]
          },
          "metadata": {},
          "execution_count": 25
        }
      ]
    },
    {
      "cell_type": "code",
      "source": [
        "user[1]"
      ],
      "metadata": {
        "colab": {
          "base_uri": "https://localhost:8080/",
          "height": 141
        },
        "id": "nmmOnMrwVc5Z",
        "outputId": "77a47700-a255-4468-a309-db65486b398c"
      },
      "execution_count": null,
      "outputs": [
        {
          "output_type": "error",
          "ename": "KeyError",
          "evalue": "1",
          "traceback": [
            "\u001b[0;31m---------------------------------------------------------------------------\u001b[0m",
            "\u001b[0;31mKeyError\u001b[0m                                  Traceback (most recent call last)",
            "\u001b[0;32m<ipython-input-26-33714b4c2a6f>\u001b[0m in \u001b[0;36m<cell line: 0>\u001b[0;34m()\u001b[0m\n\u001b[0;32m----> 1\u001b[0;31m \u001b[0muser\u001b[0m\u001b[0;34m[\u001b[0m\u001b[0;36m1\u001b[0m\u001b[0;34m]\u001b[0m\u001b[0;34m\u001b[0m\u001b[0;34m\u001b[0m\u001b[0m\n\u001b[0m",
            "\u001b[0;31mKeyError\u001b[0m: 1"
          ]
        }
      ]
    },
    {
      "cell_type": "markdown",
      "source": [
        "Access is by key, also using square brackets"
      ],
      "metadata": {
        "id": "-zSGBHcnUmiv"
      }
    },
    {
      "cell_type": "code",
      "source": [
        "user['email']"
      ],
      "metadata": {
        "colab": {
          "base_uri": "https://localhost:8080/",
          "height": 35
        },
        "id": "6iNy1UaGUqg8",
        "outputId": "ca5a0c45-629d-4cc0-b5ea-802162f0df6d"
      },
      "execution_count": null,
      "outputs": [
        {
          "output_type": "execute_result",
          "data": {
            "text/plain": [
              "'marysmith@gmail.com'"
            ],
            "application/vnd.google.colaboratory.intrinsic+json": {
              "type": "string"
            }
          },
          "metadata": {},
          "execution_count": 17
        }
      ]
    },
    {
      "cell_type": "code",
      "source": [
        "'age' in user"
      ],
      "metadata": {
        "colab": {
          "base_uri": "https://localhost:8080/"
        },
        "id": "lJI8K22OUtKm",
        "outputId": "ffd8cc08-5eb3-466f-99dc-527bf2c21446"
      },
      "execution_count": null,
      "outputs": [
        {
          "output_type": "execute_result",
          "data": {
            "text/plain": [
              "True"
            ]
          },
          "metadata": {},
          "execution_count": 18
        }
      ]
    },
    {
      "cell_type": "code",
      "source": [
        "'lastname' in user"
      ],
      "metadata": {
        "colab": {
          "base_uri": "https://localhost:8080/"
        },
        "id": "hF9rQQxQUvaT",
        "outputId": "1ef4a6b1-092d-41f5-f5c7-ff20651aa586"
      },
      "execution_count": null,
      "outputs": [
        {
          "output_type": "execute_result",
          "data": {
            "text/plain": [
              "False"
            ]
          },
          "metadata": {},
          "execution_count": 19
        }
      ]
    },
    {
      "cell_type": "markdown",
      "source": [
        "**Sets**\n",
        "\n",
        "Sets are inordered collection the unique charasteristics is that they only contain unique elements"
      ],
      "metadata": {
        "id": "wlcZBiorU1Qq"
      }
    },
    {
      "cell_type": "code",
      "source": [
        "s = {3,1,3,7,9,1,3,1}"
      ],
      "metadata": {
        "id": "SuOA203TVGSh"
      },
      "execution_count": null,
      "outputs": []
    },
    {
      "cell_type": "code",
      "source": [
        "s"
      ],
      "metadata": {
        "colab": {
          "base_uri": "https://localhost:8080/"
        },
        "id": "lz10K8BpVLYB",
        "outputId": "8c8a9bd3-0e27-4b12-f136-4c3a0f529e69"
      },
      "execution_count": null,
      "outputs": [
        {
          "output_type": "execute_result",
          "data": {
            "text/plain": [
              "{1, 3, 7, 9}"
            ]
          },
          "metadata": {},
          "execution_count": 21
        }
      ]
    },
    {
      "cell_type": "markdown",
      "source": [
        "REpeatiting elements are not there"
      ],
      "metadata": {
        "id": "U3L1FIlrZEr6"
      }
    },
    {
      "cell_type": "code",
      "source": [
        "s.add(10)"
      ],
      "metadata": {
        "id": "KT31NnpiV6u6"
      },
      "execution_count": null,
      "outputs": []
    },
    {
      "cell_type": "code",
      "source": [
        "s.pop()"
      ],
      "metadata": {
        "colab": {
          "base_uri": "https://localhost:8080/"
        },
        "id": "peNT1DvVV_Cf",
        "outputId": "caf234a0-adfe-4226-dc2f-e567477514e9"
      },
      "execution_count": null,
      "outputs": [
        {
          "output_type": "execute_result",
          "data": {
            "text/plain": [
              "1"
            ]
          },
          "metadata": {},
          "execution_count": 28
        }
      ]
    },
    {
      "cell_type": "markdown",
      "source": [
        "**Iterating Collections**\n",
        "\n",
        "Python for loop is designed for iterate over collections"
      ],
      "metadata": {
        "id": "CsXYJiZoZPSg"
      }
    },
    {
      "cell_type": "code",
      "source": [
        "l = [3, 'Hello World', True]"
      ],
      "metadata": {
        "id": "ad1GDDHSZcgX"
      },
      "execution_count": null,
      "outputs": []
    },
    {
      "cell_type": "code",
      "source": [
        "for elem in l :\n",
        "  print(elem)"
      ],
      "metadata": {
        "colab": {
          "base_uri": "https://localhost:8080/"
        },
        "id": "F5iHF2acZhmT",
        "outputId": "c10ade40-6c61-4dff-a29e-0dff2cd9dde8"
      },
      "execution_count": null,
      "outputs": [
        {
          "output_type": "stream",
          "name": "stdout",
          "text": [
            "3\n",
            "Hello World\n",
            "True\n"
          ]
        }
      ]
    },
    {
      "cell_type": "code",
      "source": [
        "for key in user:\n",
        "  print(key.title(),'=>', user[key])"
      ],
      "metadata": {
        "colab": {
          "base_uri": "https://localhost:8080/"
        },
        "id": "2mtC56BQZnDi",
        "outputId": "14992df5-efd3-462a-f3eb-8053caa39ec3"
      },
      "execution_count": null,
      "outputs": [
        {
          "output_type": "stream",
          "name": "stdout",
          "text": [
            "Name => Mary Smith\n",
            "Email => marysmith@gmail.com\n",
            "Age => 30\n",
            "Subscribed => True\n"
          ]
        }
      ]
    },
    {
      "cell_type": "code",
      "source": [
        "for i in range(5):\n",
        "  print (i)"
      ],
      "metadata": {
        "colab": {
          "base_uri": "https://localhost:8080/"
        },
        "id": "zo1fzLf8Z2Ql",
        "outputId": "f4f4a4f7-040a-4b04-eafa-e2d5f00203f3"
      },
      "execution_count": null,
      "outputs": [
        {
          "output_type": "stream",
          "name": "stdout",
          "text": [
            "0\n",
            "1\n",
            "2\n",
            "3\n",
            "4\n"
          ]
        }
      ]
    },
    {
      "cell_type": "markdown",
      "source": [
        "**Modules**\n",
        "\n",
        "One of the best features of Python as a language , is its rich buit in library"
      ],
      "metadata": {
        "id": "BqjQQCdcaHbk"
      }
    },
    {
      "cell_type": "code",
      "source": [
        "import random"
      ],
      "metadata": {
        "id": "HU3j7gLNaTiK"
      },
      "execution_count": null,
      "outputs": []
    },
    {
      "cell_type": "code",
      "source": [
        "random.randint(0,50)"
      ],
      "metadata": {
        "colab": {
          "base_uri": "https://localhost:8080/"
        },
        "id": "j6wFnrdxaWeK",
        "outputId": "d6a78502-5cff-4591-92b3-46eced17701f"
      },
      "execution_count": null,
      "outputs": [
        {
          "output_type": "execute_result",
          "data": {
            "text/plain": [
              "33"
            ]
          },
          "metadata": {},
          "execution_count": 35
        }
      ]
    },
    {
      "cell_type": "markdown",
      "source": [
        "**Exceptions**\n",
        "\n",
        "Exceptions are raised at runtime when an abnormal situation is produced in program.\n",
        "\n",
        "Exceptions can also be constructed and raised by our code.\n",
        "Example by exception :"
      ],
      "metadata": {
        "id": "0EjveMd3aacs"
      }
    },
    {
      "cell_type": "code",
      "source": [
        "age = \"30\""
      ],
      "metadata": {
        "id": "Ru8XnX8jayiq"
      },
      "execution_count": null,
      "outputs": []
    },
    {
      "cell_type": "code",
      "source": [
        "if age >21:\n",
        "  print(\"Allowed\")"
      ],
      "metadata": {
        "colab": {
          "base_uri": "https://localhost:8080/",
          "height": 158
        },
        "id": "d7xjKg09a_Zi",
        "outputId": "85612850-92f9-443b-8757-362794fae131"
      },
      "execution_count": null,
      "outputs": [
        {
          "output_type": "error",
          "ename": "TypeError",
          "evalue": "'>' not supported between instances of 'str' and 'int'",
          "traceback": [
            "\u001b[0;31m---------------------------------------------------------------------------\u001b[0m",
            "\u001b[0;31mTypeError\u001b[0m                                 Traceback (most recent call last)",
            "\u001b[0;32m<ipython-input-37-6a3ec1e1a2a7>\u001b[0m in \u001b[0;36m<cell line: 0>\u001b[0;34m()\u001b[0m\n\u001b[0;32m----> 1\u001b[0;31m \u001b[0;32mif\u001b[0m \u001b[0mage\u001b[0m \u001b[0;34m>\u001b[0m\u001b[0;36m21\u001b[0m\u001b[0;34m:\u001b[0m\u001b[0;34m\u001b[0m\u001b[0;34m\u001b[0m\u001b[0m\n\u001b[0m\u001b[1;32m      2\u001b[0m   \u001b[0mprint\u001b[0m\u001b[0;34m(\u001b[0m\u001b[0;34m\"Allowed\"\u001b[0m\u001b[0;34m)\u001b[0m\u001b[0;34m\u001b[0m\u001b[0;34m\u001b[0m\u001b[0m\n",
            "\u001b[0;31mTypeError\u001b[0m: '>' not supported between instances of 'str' and 'int'"
          ]
        }
      ]
    },
    {
      "cell_type": "code",
      "source": [
        "try:\n",
        "  if age>21:\n",
        "    print(\"Allowe\")\n",
        "except:\n",
        "  print(\"Something went worong\")"
      ],
      "metadata": {
        "colab": {
          "base_uri": "https://localhost:8080/"
        },
        "id": "Uc6PPSwZbEAO",
        "outputId": "a365e6dd-7ac2-4ebb-a503-96ce397e9c7e"
      },
      "execution_count": null,
      "outputs": [
        {
          "output_type": "stream",
          "name": "stdout",
          "text": [
            "Something went worong\n"
          ]
        }
      ]
    },
    {
      "cell_type": "markdown",
      "source": [
        "The except portion can receive also be parametrized with the expected exception :"
      ],
      "metadata": {
        "id": "QfBwX_Qog0y7"
      }
    },
    {
      "cell_type": "code",
      "source": [
        "try:\n",
        "  if age>21:\n",
        "    print(\"Allowed\")\n",
        "except TypeError:\n",
        "  print(\"Age is probably a wrong type\")"
      ],
      "metadata": {
        "colab": {
          "base_uri": "https://localhost:8080/"
        },
        "id": "8eN-FOo93Qj6",
        "outputId": "44267136-c67c-400f-d058-ad7c3e5d82cc"
      },
      "execution_count": null,
      "outputs": [
        {
          "output_type": "stream",
          "name": "stdout",
          "text": [
            "Age is probably a wrong type\n"
          ]
        }
      ]
    },
    {
      "cell_type": "code",
      "source": [],
      "metadata": {
        "id": "eY14Pd5SbQ7w"
      },
      "execution_count": null,
      "outputs": []
    }
  ]
}